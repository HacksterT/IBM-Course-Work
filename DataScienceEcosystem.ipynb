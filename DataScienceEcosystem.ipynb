{
 "cells": [
  {
   "cell_type": "markdown",
   "id": "8310d721",
   "metadata": {},
   "source": [
    "# Data Science Tools and Ecosystem"
   ]
  },
  {
   "cell_type": "markdown",
   "id": "031c5e44",
   "metadata": {},
   "source": [
    "In this notebook, Data Science Tools and Ecosystem are summarized."
   ]
  },
  {
   "cell_type": "markdown",
   "id": "210e9b0e",
   "metadata": {},
   "source": [
    "**Objectives** \n",
    "\n",
    "* illustrate how to use Python for simplae arithmatic\n",
    "* illustrate how to **emnphasize** in bold\n",
    "* illustrate how to make a table with Markdown"
   ]
  },
  {
   "cell_type": "markdown",
   "id": "c398e0f6",
   "metadata": {},
   "source": [
    "Some of the popular languages that Data Scientists use are:\n",
    "\n",
    "    1. Python \n",
    "    2. Scala \n",
    "    3. R "
   ]
  },
  {
   "cell_type": "markdown",
   "id": "4c65cc96",
   "metadata": {},
   "source": [
    "Some of the commonly used libaries used by Data Scientists include:\n",
    "    \n",
    "    1. pandas\n",
    "    2. numPy\n",
    "    3. scikit-learn"
   ]
  },
  {
   "cell_type": "markdown",
   "id": "ae89b357",
   "metadata": {},
   "source": [
    "|Data Science Tools|\n",
    "|------------------|\n",
    "|Apache Spark\n",
    "|Apache Hadoop\n",
    "|RStudio"
   ]
  },
  {
   "cell_type": "markdown",
   "id": "f7832e6f",
   "metadata": {},
   "source": [
    "### Below are a few examples of evaluating arithmetic expressions in Python"
   ]
  },
  {
   "cell_type": "code",
   "execution_count": 2,
   "id": "cbaa487f",
   "metadata": {},
   "outputs": [
    {
     "name": "stdout",
     "output_type": "stream",
     "text": [
      "This is a simple arithmetic expression to multiple then add integers.\n"
     ]
    },
    {
     "data": {
      "text/plain": [
       "17"
      ]
     },
     "execution_count": 2,
     "metadata": {},
     "output_type": "execute_result"
    }
   ],
   "source": [
    "print('This is a simple arithmetic expression to multiple then add integers.')\n",
    "(3*4)+5"
   ]
  },
  {
   "cell_type": "code",
   "execution_count": 6,
   "id": "3c91d44b",
   "metadata": {},
   "outputs": [
    {
     "name": "stdout",
     "output_type": "stream",
     "text": [
      "3.33\n"
     ]
    }
   ],
   "source": [
    "#This will convert 200 minutes to hour by dividing by 60\n",
    "x = 200/60\n",
    "print (round(x,2))"
   ]
  },
  {
   "cell_type": "raw",
   "id": "e2cb5e25",
   "metadata": {},
   "source": [
    "## Author\n",
    "Trebys Yort"
   ]
  },
  {
   "cell_type": "code",
   "execution_count": null,
   "id": "ffaa0c02",
   "metadata": {},
   "outputs": [],
   "source": []
  }
 ],
 "metadata": {
  "kernelspec": {
   "display_name": "Python 3 (ipykernel)",
   "language": "python",
   "name": "python3"
  },
  "language_info": {
   "codemirror_mode": {
    "name": "ipython",
    "version": 3
   },
   "file_extension": ".py",
   "mimetype": "text/x-python",
   "name": "python",
   "nbconvert_exporter": "python",
   "pygments_lexer": "ipython3",
   "version": "3.10.9"
  }
 },
 "nbformat": 4,
 "nbformat_minor": 5
}
